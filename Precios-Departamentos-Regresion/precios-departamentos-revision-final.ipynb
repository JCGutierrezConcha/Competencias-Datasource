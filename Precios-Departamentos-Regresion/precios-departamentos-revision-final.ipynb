{
 "cells": [
  {
   "cell_type": "code",
   "execution_count": 1,
   "metadata": {},
   "outputs": [],
   "source": [
    "import numpy as np\n",
    "import pandas as pd\n",
    "import matplotlib.pyplot as plt\n",
    "import seaborn as sns\n",
    "from scipy.stats import norm\n",
    "from pandas_profiling import ProfileReport\n",
    "\n",
    "import warnings\n",
    "warnings.filterwarnings('ignore')"
   ]
  },
  {
   "cell_type": "markdown",
   "metadata": {},
   "source": [
    "## 1. Carga y Análisis de Datos."
   ]
  },
  {
   "cell_type": "code",
   "execution_count": 2,
   "metadata": {},
   "outputs": [],
   "source": [
    "# Carga datos entrenamiento\n",
    "entrena= pd.read_csv('train_departamentos.csv', encoding='UTF-8')"
   ]
  },
  {
   "cell_type": "code",
   "execution_count": 3,
   "metadata": {},
   "outputs": [],
   "source": [
    "# Carga datos prediccion.\n",
    "prediccion= pd.read_csv('test_departamentos.csv', encoding='UTF-8')"
   ]
  },
  {
   "cell_type": "code",
   "execution_count": 4,
   "metadata": {},
   "outputs": [],
   "source": [
    "# Inspección general datos de entrenamiento\n",
    "# ProfileReport(entrena)"
   ]
  },
  {
   "cell_type": "code",
   "execution_count": 5,
   "metadata": {},
   "outputs": [
    {
     "name": "stdout",
     "output_type": "stream",
     "text": [
      "<class 'pandas.core.frame.DataFrame'>\n",
      "RangeIndex: 25660 entries, 0 to 25659\n",
      "Data columns (total 12 columns):\n",
      "Id                        25660 non-null int64\n",
      "pais                      25660 non-null object\n",
      "provincia_departamento    25660 non-null object\n",
      "ciudad                    25660 non-null object\n",
      "property_type             25660 non-null object\n",
      "operation_type            25660 non-null object\n",
      "rooms                     25660 non-null float64\n",
      "bedrooms                  25660 non-null float64\n",
      "bathrooms                 25660 non-null float64\n",
      "surface_total             25660 non-null float64\n",
      "currency                  25660 non-null object\n",
      "price                     25660 non-null float64\n",
      "dtypes: float64(5), int64(1), object(6)\n",
      "memory usage: 2.3+ MB\n"
     ]
    }
   ],
   "source": [
    "entrena.info()"
   ]
  },
  {
   "cell_type": "code",
   "execution_count": 6,
   "metadata": {},
   "outputs": [],
   "source": [
    "# Inspección general datos de predicción\n",
    "# ProfileReport(prediccion)"
   ]
  },
  {
   "cell_type": "code",
   "execution_count": 7,
   "metadata": {},
   "outputs": [
    {
     "name": "stdout",
     "output_type": "stream",
     "text": [
      "<class 'pandas.core.frame.DataFrame'>\n",
      "RangeIndex: 6416 entries, 0 to 6415\n",
      "Data columns (total 11 columns):\n",
      "Id                        6416 non-null int64\n",
      "pais                      6416 non-null object\n",
      "provincia_departamento    6416 non-null object\n",
      "ciudad                    6416 non-null object\n",
      "property_type             6416 non-null object\n",
      "operation_type            6416 non-null object\n",
      "rooms                     6416 non-null float64\n",
      "bedrooms                  6416 non-null float64\n",
      "bathrooms                 6416 non-null float64\n",
      "surface_total             6416 non-null float64\n",
      "currency                  6416 non-null object\n",
      "dtypes: float64(4), int64(1), object(6)\n",
      "memory usage: 551.5+ KB\n"
     ]
    }
   ],
   "source": [
    "prediccion.info()"
   ]
  },
  {
   "cell_type": "code",
   "execution_count": 8,
   "metadata": {},
   "outputs": [],
   "source": [
    "datos= entrena.copy()\n",
    "predice=prediccion.copy()"
   ]
  },
  {
   "cell_type": "markdown",
   "metadata": {},
   "source": [
    "### Análisis del vector objetivo (price)."
   ]
  },
  {
   "cell_type": "code",
   "execution_count": 9,
   "metadata": {},
   "outputs": [
    {
     "name": "stdout",
     "output_type": "stream",
     "text": [
      "Price Max: 3450000.0\n",
      "Price Min: 6009.0\n",
      "Price Mean: 165680.19\n",
      "Price Std: 224454.29\n"
     ]
    }
   ],
   "source": [
    "print('Price Max:', datos['price'].max())\n",
    "print('Price Min:', datos['price'].min())\n",
    "print('Price Mean:', round(datos['price'].mean(),2))\n",
    "print('Price Std:', round(datos['price'].std(),2))"
   ]
  },
  {
   "cell_type": "code",
   "execution_count": 10,
   "metadata": {},
   "outputs": [
    {
     "data": {
      "image/png": "[encoded data removed]",
      "text/plain": [
       "<Figure size 432x288 with 1 Axes>"
      ]
     },
     "metadata": {},
     "output_type": "display_data"
    }
   ],
   "source": [
    "# Distribución inicial de 'price'\n",
    "plt.figure(figsize=(6,4))\n",
    "sns.distplot(datos['price'],fit=norm);"
   ]
  },
  {
   "cell_type": "code",
   "execution_count": 11,
   "metadata": {},
   "outputs": [
    {
     "data": {
      "image/png": "[encoded data removed]",
      "text/plain": [
       "<Figure size 360x216 with 1 Axes>"
      ]
     },
     "metadata": {},
     "output_type": "display_data"
    }
   ],
   "source": [
    "# Distribución con transformación con log1p de 'price'\n",
    "plt.figure(figsize=(5,3))\n",
    "sns.distplot(np.log1p(datos['price']),fit=norm);"
   ]
  },
  {
   "cell_type": "markdown",
   "metadata": {},
   "source": [
    "##### El vector objetivo (price) se concentra en valores bajos, se transformará con log1p para acercarlo a una distribución normal."
   ]
  },
  {
   "cell_type": "markdown",
   "metadata": {},
   "source": [
    "### Análisis de variable continua (surface_total)."
   ]
  },
  {
   "cell_type": "code",
   "execution_count": 12,
   "metadata": {},
   "outputs": [
    {
     "data": {
      "image/png": "[encoded data removed]",
      "text/plain": [
       "<Figure size 360x216 with 1 Axes>"
      ]
     },
     "metadata": {},
     "output_type": "display_data"
    }
   ],
   "source": [
    "# Distribución inicial de 'surface_total'\n",
    "plt.figure(figsize=(5,3))\n",
    "sns.distplot(datos['surface_total'],fit=norm);"
   ]
  },
  {
   "cell_type": "code",
   "execution_count": 13,
   "metadata": {
    "scrolled": true
   },
   "outputs": [
    {
     "data": {
      "image/png": "[encoded data removed]",
      "text/plain": [
       "<Figure size 360x216 with 1 Axes>"
      ]
     },
     "metadata": {},
     "output_type": "display_data"
    }
   ],
   "source": [
    "# Distribución con transformación con log1p de 'surface_total'\n",
    "plt.figure(figsize=(5,3))\n",
    "sns.distplot(np.log1p(datos['surface_total']),fit=norm);"
   ]
  },
  {
   "cell_type": "markdown",
   "metadata": {},
   "source": [
    "##### Al igual que el vector objetivo, la variable surface_total se concentra en valores bajos, se transformará con log1p para acercarlo a una distribución normal."
   ]
  },
  {
   "cell_type": "markdown",
   "metadata": {},
   "source": [
    "### Análisis datos perdidos."
   ]
  },
  {
   "cell_type": "code",
   "execution_count": 14,
   "metadata": {},
   "outputs": [
    {
     "data": {
      "text/plain": [
       "Id                        0\n",
       "pais                      0\n",
       "provincia_departamento    0\n",
       "ciudad                    0\n",
       "property_type             0\n",
       "operation_type            0\n",
       "rooms                     0\n",
       "bedrooms                  0\n",
       "bathrooms                 0\n",
       "surface_total             0\n",
       "currency                  0\n",
       "price                     0\n",
       "dtype: int64"
      ]
     },
     "execution_count": 14,
     "metadata": {},
     "output_type": "execute_result"
    }
   ],
   "source": [
    "datos.isna().sum()"
   ]
  },
  {
   "cell_type": "markdown",
   "metadata": {},
   "source": [
    "##### No hay valores perdidos en el dataset de entrenamiento."
   ]
  },
  {
   "cell_type": "code",
   "execution_count": 15,
   "metadata": {},
   "outputs": [
    {
     "data": {
      "text/plain": [
       "Id                        0\n",
       "pais                      0\n",
       "provincia_departamento    0\n",
       "ciudad                    0\n",
       "property_type             0\n",
       "operation_type            0\n",
       "rooms                     0\n",
       "bedrooms                  0\n",
       "bathrooms                 0\n",
       "surface_total             0\n",
       "currency                  0\n",
       "dtype: int64"
      ]
     },
     "execution_count": 15,
     "metadata": {},
     "output_type": "execute_result"
    }
   ],
   "source": [
    "predice.isna().sum()"
   ]
  },
  {
   "cell_type": "markdown",
   "metadata": {},
   "source": [
    "##### No hay valores perdidos en el dataset para predicción."
   ]
  },
  {
   "cell_type": "markdown",
   "metadata": {},
   "source": [
    "### Análisis outliers.\n",
    "\n",
    "Para la identificación y eliminación de outliers se transformará el vector ojetivo (price) y el atributo surface_total con log1p.\n",
    "\n",
    "La identificación se realizará en forma visual, usando gráfico de log_price versus log_surface_total y se eliminarán los puntos que se encuentren en la zona superior izquierda (bajo log_surface_total y alto log_price), inferior derecha (alto log_surface_total y bajo log:price) y zona media de log_surface_total con alto/bajo log_price."
   ]
  },
  {
   "cell_type": "code",
   "execution_count": 16,
   "metadata": {},
   "outputs": [],
   "source": [
    "datos['log_price']=np.log1p(datos['price'])\n",
    "datos['log_surface']=np.log1p(datos['surface_total'])\n",
    "datos=datos.drop(columns= ['price','surface_total'])"
   ]
  },
  {
   "cell_type": "code",
   "execution_count": 17,
   "metadata": {},
   "outputs": [
    {
     "data": {
      "image/png": "[encoded data removed]",
      "text/plain": [
       "<Figure size 432x288 with 1 Axes>"
      ]
     },
     "metadata": {},
     "output_type": "display_data"
    }
   ],
   "source": [
    "sns.regplot(data=datos, x='log_surface', y='log_price')\n",
    "plt.ylabel('log_price', fontsize=13)\n",
    "plt.xlabel('log_surface', fontsize=13)\n",
    "plt.show()"
   ]
  },
  {
   "cell_type": "code",
   "execution_count": 18,
   "metadata": {},
   "outputs": [],
   "source": [
    "datos = datos.drop(datos[(datos['log_price'] > 13) & (datos['log_surface'] < 3.7)].index)\n",
    "datos = datos.drop(datos[(datos['log_price'] > 14.2) & (datos['log_surface'] < 4.5)].index)\n",
    "datos = datos.drop(datos[(datos['log_price'] < 9)].index)\n",
    "datos = datos.drop(datos[(datos['log_price'] < 11.3) & (datos['log_surface'] > 5.6)].index)"
   ]
  },
  {
   "cell_type": "code",
   "execution_count": 19,
   "metadata": {},
   "outputs": [
    {
     "data": {
      "image/png": "[encoded data removed]",
      "text/plain": [
       "<Figure size 432x288 with 1 Axes>"
      ]
     },
     "metadata": {},
     "output_type": "display_data"
    }
   ],
   "source": [
    "sns.regplot(data=datos, x='log_surface', y='log_price')\n",
    "plt.ylabel('log_price', fontsize=13)\n",
    "plt.xlabel('log_surface', fontsize=13)\n",
    "plt.show()"
   ]
  },
  {
   "cell_type": "code",
   "execution_count": 20,
   "metadata": {},
   "outputs": [],
   "source": [
    "datos=datos.reset_index(drop=True)"
   ]
  },
  {
   "cell_type": "code",
   "execution_count": 21,
   "metadata": {},
   "outputs": [
    {
     "data": {
      "text/plain": [
       "25649"
      ]
     },
     "execution_count": 21,
     "metadata": {},
     "output_type": "execute_result"
    }
   ],
   "source": [
    "len(datos)"
   ]
  },
  {
   "cell_type": "markdown",
   "metadata": {},
   "source": [
    "### Análisis de variables categóricas con gran cantidad de valores distintos (ciudad y provincia_departamento)."
   ]
  },
  {
   "cell_type": "markdown",
   "metadata": {},
   "source": [
    "#### Analisis datos atributo 'ciudad'."
   ]
  },
  {
   "cell_type": "code",
   "execution_count": 22,
   "metadata": {},
   "outputs": [],
   "source": [
    "ciudad_datos=datos['ciudad'].to_list()"
   ]
  },
  {
   "cell_type": "code",
   "execution_count": 23,
   "metadata": {},
   "outputs": [],
   "source": [
    "ciudad_pred=predice['ciudad'].to_list()"
   ]
  },
  {
   "cell_type": "code",
   "execution_count": 24,
   "metadata": {},
   "outputs": [],
   "source": [
    "# Ciudades que están en dataset de entrenamiento y no están en dataset de predicción.\n",
    "ciudad_dif1=list(set(ciudad_datos) - set(ciudad_pred))"
   ]
  },
  {
   "cell_type": "code",
   "execution_count": 25,
   "metadata": {},
   "outputs": [
    {
     "data": {
      "text/plain": [
       "71"
      ]
     },
     "execution_count": 25,
     "metadata": {},
     "output_type": "execute_result"
    }
   ],
   "source": [
    "len(ciudad_dif1)"
   ]
  },
  {
   "cell_type": "markdown",
   "metadata": {},
   "source": [
    "#### Analisis datos atributo 'provincia_departamento'."
   ]
  },
  {
   "cell_type": "code",
   "execution_count": 26,
   "metadata": {},
   "outputs": [],
   "source": [
    "prov_datos=datos['provincia_departamento'].to_list()"
   ]
  },
  {
   "cell_type": "code",
   "execution_count": 27,
   "metadata": {},
   "outputs": [],
   "source": [
    "prov_pred=predice['provincia_departamento'].to_list()"
   ]
  },
  {
   "cell_type": "code",
   "execution_count": 28,
   "metadata": {},
   "outputs": [],
   "source": [
    "# Provincia/Departamento que están en dataset de entrenamiento y no están en dataset de predicción.\n",
    "prov_dif1=list(set(prov_datos) - set(prov_pred))"
   ]
  },
  {
   "cell_type": "code",
   "execution_count": 29,
   "metadata": {},
   "outputs": [
    {
     "data": {
      "text/plain": [
       "8"
      ]
     },
     "execution_count": 29,
     "metadata": {},
     "output_type": "execute_result"
    }
   ],
   "source": [
    "len(prov_dif1)"
   ]
  },
  {
   "cell_type": "code",
   "execution_count": 30,
   "metadata": {},
   "outputs": [
    {
     "data": {
      "text/plain": [
       "['Cauca', 'Chubut', 'Huila', 'Chaco', 'Jujuy', 'Boyacá', 'Tucumán', 'Meta']"
      ]
     },
     "execution_count": 30,
     "metadata": {},
     "output_type": "execute_result"
    }
   ],
   "source": [
    "prov_dif1"
   ]
  },
  {
   "cell_type": "markdown",
   "metadata": {},
   "source": [
    "## 2. Preparacion datos."
   ]
  },
  {
   "cell_type": "markdown",
   "metadata": {},
   "source": [
    "### 2.1 Preparación datos de entrenamiento."
   ]
  },
  {
   "cell_type": "code",
   "execution_count": 31,
   "metadata": {},
   "outputs": [],
   "source": [
    "# Eliminación de atributos con valor único o carácter no predictivo (Id)\n",
    "datos=datos.drop(columns=['Id','property_type','operation_type', 'currency'])"
   ]
  },
  {
   "cell_type": "markdown",
   "metadata": {},
   "source": [
    "### Filtrar observaciones para hacer coincidir variables categóricas entre dataframes."
   ]
  },
  {
   "cell_type": "code",
   "execution_count": 32,
   "metadata": {},
   "outputs": [],
   "source": [
    "for i in prov_dif1:\n",
    "    datos = datos.drop(datos[(datos['provincia_departamento'] == i)].index)"
   ]
  },
  {
   "cell_type": "code",
   "execution_count": 33,
   "metadata": {},
   "outputs": [],
   "source": [
    "for j in ciudad_dif1:\n",
    "    datos = datos.drop(datos[(datos['ciudad'] == j)].index)"
   ]
  },
  {
   "cell_type": "code",
   "execution_count": 34,
   "metadata": {},
   "outputs": [],
   "source": [
    "datos=datos.reset_index(drop=True)"
   ]
  },
  {
   "cell_type": "code",
   "execution_count": 35,
   "metadata": {},
   "outputs": [],
   "source": [
    "datos.rename(columns={'provincia_departamento': 'prov_depto'}, inplace=True)"
   ]
  },
  {
   "cell_type": "markdown",
   "metadata": {},
   "source": [
    "### Binarización de variables categóricas."
   ]
  },
  {
   "cell_type": "code",
   "execution_count": 36,
   "metadata": {},
   "outputs": [],
   "source": [
    "col_obj=[]\n",
    "col_num=[]\n",
    "for colnames, serie in datos.iteritems():\n",
    "    if serie.dtype == 'object':\n",
    "        col_obj.append(colnames)\n",
    "    else:\n",
    "        col_num.append(colnames)\n",
    "df_obj=datos.loc[:,col_obj]\n",
    "df_num=datos.loc[:,col_num]"
   ]
  },
  {
   "cell_type": "code",
   "execution_count": 37,
   "metadata": {},
   "outputs": [
    {
     "data": {
      "text/html": [
       "<div>\n",
       "<style scoped>\n",
       "    .dataframe tbody tr th:only-of-type {\n",
       "        vertical-align: middle;\n",
       "    }\n",
       "\n",
       "    .dataframe tbody tr th {\n",
       "        vertical-align: top;\n",
       "    }\n",
       "\n",
       "    .dataframe thead th {\n",
       "        text-align: right;\n",
       "    }\n",
       "</style>\n",
       "<table border=\"1\" class=\"dataframe\">\n",
       "  <thead>\n",
       "    <tr style=\"text-align: right;\">\n",
       "      <th></th>\n",
       "      <th>pais</th>\n",
       "      <th>prov_depto</th>\n",
       "      <th>ciudad</th>\n",
       "    </tr>\n",
       "  </thead>\n",
       "  <tbody>\n",
       "    <tr>\n",
       "      <th>0</th>\n",
       "      <td>Argentina</td>\n",
       "      <td>Capital Federal</td>\n",
       "      <td>Villa Crespo</td>\n",
       "    </tr>\n",
       "    <tr>\n",
       "      <th>1</th>\n",
       "      <td>Argentina</td>\n",
       "      <td>Capital Federal</td>\n",
       "      <td>Palermo</td>\n",
       "    </tr>\n",
       "    <tr>\n",
       "      <th>2</th>\n",
       "      <td>Colombia</td>\n",
       "      <td>Atlántico</td>\n",
       "      <td>Barranquilla</td>\n",
       "    </tr>\n",
       "    <tr>\n",
       "      <th>3</th>\n",
       "      <td>Colombia</td>\n",
       "      <td>Valle del Cauca</td>\n",
       "      <td>Cali</td>\n",
       "    </tr>\n",
       "    <tr>\n",
       "      <th>4</th>\n",
       "      <td>Argentina</td>\n",
       "      <td>Capital Federal</td>\n",
       "      <td>Balvanera</td>\n",
       "    </tr>\n",
       "  </tbody>\n",
       "</table>\n",
       "</div>"
      ],
      "text/plain": [
       "        pais       prov_depto        ciudad\n",
       "0  Argentina  Capital Federal  Villa Crespo\n",
       "1  Argentina  Capital Federal       Palermo\n",
       "2   Colombia        Atlántico  Barranquilla\n",
       "3   Colombia  Valle del Cauca          Cali\n",
       "4  Argentina  Capital Federal     Balvanera"
      ]
     },
     "execution_count": 37,
     "metadata": {},
     "output_type": "execute_result"
    }
   ],
   "source": [
    "df_obj.head()"
   ]
  },
  {
   "cell_type": "code",
   "execution_count": 38,
   "metadata": {},
   "outputs": [
    {
     "data": {
      "text/plain": [
       "Argentina    16772\n",
       "Name: pais, dtype: int64"
      ]
     },
     "execution_count": 38,
     "metadata": {},
     "output_type": "execute_result"
    }
   ],
   "source": [
    "df_obj['pais'].value_counts()[:1]"
   ]
  },
  {
   "cell_type": "code",
   "execution_count": 39,
   "metadata": {},
   "outputs": [
    {
     "data": {
      "text/plain": [
       "Capital Federal    8959\n",
       "Name: prov_depto, dtype: int64"
      ]
     },
     "execution_count": 39,
     "metadata": {},
     "output_type": "execute_result"
    }
   ],
   "source": [
    "df_obj['prov_depto'].value_counts()[:1]"
   ]
  },
  {
   "cell_type": "code",
   "execution_count": 40,
   "metadata": {},
   "outputs": [
    {
     "data": {
      "text/plain": [
       "Bogotá D.C    3129\n",
       "Name: ciudad, dtype: int64"
      ]
     },
     "execution_count": 40,
     "metadata": {},
     "output_type": "execute_result"
    }
   ],
   "source": [
    "df_obj['ciudad'].value_counts()[:1]"
   ]
  },
  {
   "cell_type": "code",
   "execution_count": 41,
   "metadata": {},
   "outputs": [],
   "source": [
    "datos_binarios=pd.get_dummies(datos, prefix=col_obj)"
   ]
  },
  {
   "cell_type": "code",
   "execution_count": 42,
   "metadata": {},
   "outputs": [],
   "source": [
    "mayoritarias=['pais_Argentina', 'prov_depto_Capital Federal', 'ciudad_Bogotá D.C']"
   ]
  },
  {
   "cell_type": "code",
   "execution_count": 43,
   "metadata": {},
   "outputs": [],
   "source": [
    "df_modelos=datos_binarios.drop(columns=mayoritarias)"
   ]
  },
  {
   "cell_type": "markdown",
   "metadata": {},
   "source": [
    "### Eliminación de atributos con alta correlación."
   ]
  },
  {
   "cell_type": "code",
   "execution_count": 44,
   "metadata": {},
   "outputs": [],
   "source": [
    "def identifica_alta_correlacion(df, threshold=.8):\n",
    "    \"\"\"\n",
    "    identifica_alta_correlcion: Genera un reporte sobre las correlaciones existentes entre variables,\n",
    "    condicional a un nivel arbitrario.\n",
    "\n",
    "    Parámetros de ingreso:\n",
    "        - df: un objeto pd.DataFrame, por lo general es la base de datos a trabajar.\n",
    "        - threshold: Nivel de correlaciones a considerar como altas. Por defecto es .8.\n",
    "\n",
    "    Retorno:\n",
    "        - Un pd.DataFrame con los nombres de las variables y sus correlaciones\n",
    "    \"\"\"\n",
    "\n",
    "    # extraemos la matriz de correlación con una máscara booleana\n",
    "    tmp = df.corr().mask(abs(df.corr()) < threshold, df)\n",
    "    # convertimos a long format\n",
    "    tmp = pd.melt(tmp)\n",
    "    # agregamos una columna extra que nos facilitará los cruces entre variables\n",
    "    tmp['var2'] = list(df.columns) * len(df.columns)\n",
    "    # reordenamos\n",
    "    tmp = tmp[['variable', 'var2', 'value']].dropna()\n",
    "    # eliminamos valores duplicados\n",
    "    tmp = tmp[tmp['value'].duplicated()]\n",
    "    # eliminamos variables con valores de 1 \n",
    "    tmp=tmp[tmp['value'] < 1.00]\n",
    "    return tmp.sort_values(by='value', ascending='False')"
   ]
  },
  {
   "cell_type": "code",
   "execution_count": 45,
   "metadata": {},
   "outputs": [
    {
     "data": {
      "text/html": [
       "<div>\n",
       "<style scoped>\n",
       "    .dataframe tbody tr th:only-of-type {\n",
       "        vertical-align: middle;\n",
       "    }\n",
       "\n",
       "    .dataframe tbody tr th {\n",
       "        vertical-align: top;\n",
       "    }\n",
       "\n",
       "    .dataframe thead th {\n",
       "        text-align: right;\n",
       "    }\n",
       "</style>\n",
       "<table border=\"1\" class=\"dataframe\">\n",
       "  <thead>\n",
       "    <tr style=\"text-align: right;\">\n",
       "      <th></th>\n",
       "      <th>variable</th>\n",
       "      <th>var2</th>\n",
       "      <th>value</th>\n",
       "    </tr>\n",
       "  </thead>\n",
       "  <tbody>\n",
       "    <tr>\n",
       "      <th>10378</th>\n",
       "      <td>ciudad_Bucaramanga</td>\n",
       "      <td>prov_depto_Santander</td>\n",
       "      <td>0.901467</td>\n",
       "    </tr>\n",
       "    <tr>\n",
       "      <th>23817</th>\n",
       "      <td>ciudad_Mar del Plata</td>\n",
       "      <td>prov_depto_Buenos Aires Costa Atlántica</td>\n",
       "      <td>0.933487</td>\n",
       "    </tr>\n",
       "    <tr>\n",
       "      <th>32319</th>\n",
       "      <td>ciudad_Rosario</td>\n",
       "      <td>prov_depto_Santa Fe</td>\n",
       "      <td>0.966509</td>\n",
       "    </tr>\n",
       "    <tr>\n",
       "      <th>18866</th>\n",
       "      <td>ciudad_Ibagué</td>\n",
       "      <td>prov_depto_Tolima</td>\n",
       "      <td>0.970123</td>\n",
       "    </tr>\n",
       "    <tr>\n",
       "      <th>11208</th>\n",
       "      <td>ciudad_Cali</td>\n",
       "      <td>prov_depto_Valle del Cauca</td>\n",
       "      <td>0.978424</td>\n",
       "    </tr>\n",
       "    <tr>\n",
       "      <th>8908</th>\n",
       "      <td>ciudad_Barranquilla</td>\n",
       "      <td>prov_depto_Atlántico</td>\n",
       "      <td>0.983136</td>\n",
       "    </tr>\n",
       "    <tr>\n",
       "      <th>29624</th>\n",
       "      <td>ciudad_Pereira</td>\n",
       "      <td>prov_depto_Risaralda</td>\n",
       "      <td>0.989958</td>\n",
       "    </tr>\n",
       "  </tbody>\n",
       "</table>\n",
       "</div>"
      ],
      "text/plain": [
       "                   variable                                     var2     value\n",
       "10378    ciudad_Bucaramanga                     prov_depto_Santander  0.901467\n",
       "23817  ciudad_Mar del Plata  prov_depto_Buenos Aires Costa Atlántica  0.933487\n",
       "32319        ciudad_Rosario                      prov_depto_Santa Fe  0.966509\n",
       "18866         ciudad_Ibagué                        prov_depto_Tolima  0.970123\n",
       "11208           ciudad_Cali               prov_depto_Valle del Cauca  0.978424\n",
       "8908    ciudad_Barranquilla                     prov_depto_Atlántico  0.983136\n",
       "29624        ciudad_Pereira                     prov_depto_Risaralda  0.989958"
      ]
     },
     "execution_count": 45,
     "metadata": {},
     "output_type": "execute_result"
    }
   ],
   "source": [
    "# Análisis correlación entre variables del vector de atributos.\n",
    "identifica_alta_correlacion(df_modelos, threshold=.9)"
   ]
  },
  {
   "cell_type": "code",
   "execution_count": 46,
   "metadata": {},
   "outputs": [],
   "source": [
    "# Elimina atributos con alta correlación.\n",
    "df_alta=identifica_alta_correlacion(df_modelos, threshold=.9)\n",
    "lista_alta=df_alta['variable']\n",
    "df_modelos=df_modelos.drop(columns=lista_alta)"
   ]
  },
  {
   "cell_type": "markdown",
   "metadata": {},
   "source": [
    "### 2.2 Preparación datos para predicción.\n",
    "\n",
    "Para la preparación de este dataset se realizarán los ajustes requeridos para que tenga las mismas columnas que se encuentran en el dataset de entrenamiento."
   ]
  },
  {
   "cell_type": "code",
   "execution_count": 47,
   "metadata": {},
   "outputs": [],
   "source": [
    "id_predice=predice['Id']\n",
    "predice['log_surface']=np.log1p(predice['surface_total'])\n",
    "predice=predice.drop(columns= ['surface_total'])\n",
    "predice=predice.drop(columns=['Id','property_type','operation_type', 'currency'])\n",
    "predice.rename(columns={'provincia_departamento': 'prov_depto'}, inplace=True)"
   ]
  },
  {
   "cell_type": "code",
   "execution_count": 48,
   "metadata": {},
   "outputs": [],
   "source": [
    "col_obj=[]\n",
    "col_num=[]\n",
    "for colnames, serie in predice.iteritems():\n",
    "    if serie.dtype == 'object':\n",
    "        col_obj.append(colnames)\n",
    "    else:\n",
    "        col_num.append(colnames)\n",
    "df_obj_pred=predice.loc[:,col_obj]\n",
    "df_num_pred=predice.loc[:,col_num]"
   ]
  },
  {
   "cell_type": "code",
   "execution_count": 49,
   "metadata": {},
   "outputs": [
    {
     "data": {
      "text/html": [
       "<div>\n",
       "<style scoped>\n",
       "    .dataframe tbody tr th:only-of-type {\n",
       "        vertical-align: middle;\n",
       "    }\n",
       "\n",
       "    .dataframe tbody tr th {\n",
       "        vertical-align: top;\n",
       "    }\n",
       "\n",
       "    .dataframe thead th {\n",
       "        text-align: right;\n",
       "    }\n",
       "</style>\n",
       "<table border=\"1\" class=\"dataframe\">\n",
       "  <thead>\n",
       "    <tr style=\"text-align: right;\">\n",
       "      <th></th>\n",
       "      <th>pais</th>\n",
       "      <th>prov_depto</th>\n",
       "      <th>ciudad</th>\n",
       "    </tr>\n",
       "  </thead>\n",
       "  <tbody>\n",
       "    <tr>\n",
       "      <th>0</th>\n",
       "      <td>Argentina</td>\n",
       "      <td>Santa Fe</td>\n",
       "      <td>Rosario</td>\n",
       "    </tr>\n",
       "    <tr>\n",
       "      <th>1</th>\n",
       "      <td>Argentina</td>\n",
       "      <td>Capital Federal</td>\n",
       "      <td>Villa Urquiza</td>\n",
       "    </tr>\n",
       "    <tr>\n",
       "      <th>2</th>\n",
       "      <td>Argentina</td>\n",
       "      <td>Capital Federal</td>\n",
       "      <td>Almagro</td>\n",
       "    </tr>\n",
       "    <tr>\n",
       "      <th>3</th>\n",
       "      <td>Colombia</td>\n",
       "      <td>Cundinamarca</td>\n",
       "      <td>Mosquera</td>\n",
       "    </tr>\n",
       "    <tr>\n",
       "      <th>4</th>\n",
       "      <td>Argentina</td>\n",
       "      <td>Buenos Aires Costa Atlántica</td>\n",
       "      <td>Mar del Plata</td>\n",
       "    </tr>\n",
       "  </tbody>\n",
       "</table>\n",
       "</div>"
      ],
      "text/plain": [
       "        pais                    prov_depto         ciudad\n",
       "0  Argentina                      Santa Fe        Rosario\n",
       "1  Argentina               Capital Federal  Villa Urquiza\n",
       "2  Argentina               Capital Federal        Almagro\n",
       "3   Colombia                  Cundinamarca       Mosquera\n",
       "4  Argentina  Buenos Aires Costa Atlántica  Mar del Plata"
      ]
     },
     "execution_count": 49,
     "metadata": {},
     "output_type": "execute_result"
    }
   ],
   "source": [
    "df_obj_pred.head()"
   ]
  },
  {
   "cell_type": "code",
   "execution_count": 50,
   "metadata": {},
   "outputs": [
    {
     "data": {
      "text/plain": [
       "Argentina    4250\n",
       "Name: pais, dtype: int64"
      ]
     },
     "execution_count": 50,
     "metadata": {},
     "output_type": "execute_result"
    }
   ],
   "source": [
    "df_obj_pred['pais'].value_counts()[:1]"
   ]
  },
  {
   "cell_type": "code",
   "execution_count": 51,
   "metadata": {},
   "outputs": [
    {
     "data": {
      "text/plain": [
       "Capital Federal    2290\n",
       "Name: prov_depto, dtype: int64"
      ]
     },
     "execution_count": 51,
     "metadata": {},
     "output_type": "execute_result"
    }
   ],
   "source": [
    "df_obj_pred['prov_depto'].value_counts()[:1]"
   ]
  },
  {
   "cell_type": "code",
   "execution_count": 52,
   "metadata": {},
   "outputs": [
    {
     "data": {
      "text/plain": [
       "Bogotá D.C    766\n",
       "Name: ciudad, dtype: int64"
      ]
     },
     "execution_count": 52,
     "metadata": {},
     "output_type": "execute_result"
    }
   ],
   "source": [
    "df_obj_pred['ciudad'].value_counts()[:1]"
   ]
  },
  {
   "cell_type": "code",
   "execution_count": 53,
   "metadata": {},
   "outputs": [],
   "source": [
    "# Binarización variables categóricas\n",
    "predice_binarios=pd.get_dummies(predice, prefix=col_obj)"
   ]
  },
  {
   "cell_type": "code",
   "execution_count": 54,
   "metadata": {},
   "outputs": [],
   "source": [
    "df_predicciones=predice_binarios.drop(columns=mayoritarias)"
   ]
  },
  {
   "cell_type": "code",
   "execution_count": 55,
   "metadata": {},
   "outputs": [],
   "source": [
    "columnas_pred=df_predicciones.columns\n",
    "columnas_modelo=df_modelos.columns"
   ]
  },
  {
   "cell_type": "code",
   "execution_count": 56,
   "metadata": {},
   "outputs": [],
   "source": [
    "# Columnas que están en dataset de predicción y no están en dataset de entrenamiento.\n",
    "columnas_dif=list(set(columnas_pred) - set(columnas_modelo))"
   ]
  },
  {
   "cell_type": "code",
   "execution_count": 57,
   "metadata": {},
   "outputs": [
    {
     "data": {
      "text/plain": [
       "['ciudad_Costa Azul',\n",
       " 'ciudad_Sopetrán',\n",
       " 'ciudad_Corrientes',\n",
       " 'ciudad_Pereira',\n",
       " 'ciudad_Caldas',\n",
       " 'ciudad_La Lucila del Mar',\n",
       " 'ciudad_Bucaramanga',\n",
       " 'ciudad_Zapala',\n",
       " 'ciudad_Catalinas',\n",
       " 'ciudad_Mar del Plata',\n",
       " 'prov_depto_San Luis',\n",
       " 'ciudad_Facatativá',\n",
       " 'ciudad_Rosario',\n",
       " 'ciudad_Barranquilla',\n",
       " 'ciudad_Cali',\n",
       " 'ciudad_Ibagué',\n",
       " 'prov_depto_Corrientes',\n",
       " 'ciudad_Florencio Varela']"
      ]
     },
     "execution_count": 57,
     "metadata": {},
     "output_type": "execute_result"
    }
   ],
   "source": [
    "columnas_dif"
   ]
  },
  {
   "cell_type": "code",
   "execution_count": 58,
   "metadata": {},
   "outputs": [],
   "source": [
    "# Eliminación de columnas para hacer coincidir dataset de entrenamiento y predicción.\n",
    "df_predicciones=df_predicciones.drop(columns=columnas_dif)"
   ]
  },
  {
   "cell_type": "markdown",
   "metadata": {},
   "source": [
    "## 3. Entrenamiento y calibración modelos.\n",
    "\n",
    "Para la búsqueda del modelo con mejor desempeño, se entrenarán los siguientes modelos, en su versión para regresión:\n",
    "\n",
    "- Random Forest\n",
    "- Gradient Boosting\n",
    "- XGBoost\n",
    "- LightGBM"
   ]
  },
  {
   "cell_type": "markdown",
   "metadata": {},
   "source": [
    "### 3.1 Entrenamiento inicial modelos. "
   ]
  },
  {
   "cell_type": "code",
   "execution_count": 59,
   "metadata": {},
   "outputs": [],
   "source": [
    "from sklearn.model_selection import train_test_split, GridSearchCV\n",
    "from sklearn.ensemble import RandomForestRegressor, GradientBoostingRegressor\n",
    "from xgboost import XGBRegressor\n",
    "import lightgbm as lgb\n",
    "from sklearn.metrics import mean_squared_log_error, make_scorer"
   ]
  },
  {
   "cell_type": "code",
   "execution_count": 60,
   "metadata": {},
   "outputs": [],
   "source": [
    "y= df_modelos.loc[:,['log_price']]\n",
    "X= df_modelos.drop(columns=['log_price'])\n",
    "n = .2\n",
    "seed = 9605\n",
    "\n",
    "X_train, X_test, y_train, y_test = train_test_split(X, y, test_size=n, random_state=seed)\n",
    "\n",
    "scorer = make_scorer(mean_squared_log_error, greater_is_better = False)"
   ]
  },
  {
   "cell_type": "code",
   "execution_count": 61,
   "metadata": {},
   "outputs": [],
   "source": [
    "# Función para comparar desempeño entre modelos\n",
    "\n",
    "def compara_modelos(estimators, X_tr, y_tr, X_te, y_te):\n",
    "    tmp_names=[]\n",
    "    score_train, score_test=[],[]\n",
    "    for index, value in enumerate(estimators):\n",
    "        tmp_names.append(value[0])\n",
    "        estimator_fit = value[1].fit(X_tr, y_tr)\n",
    "    \n",
    "        # RMSLE\n",
    "        pred_train= estimator_fit.predict(X_tr)\n",
    "        pred_test= estimator_fit.predict(X_te)\n",
    "        rmsle_train=np.sqrt(mean_squared_log_error(np.expm1(y_tr), np.expm1(pred_train)))\n",
    "        score_train.append(rmsle_train)\n",
    "        rmsle_test=np.sqrt(mean_squared_log_error(np.expm1(y_te), np.expm1(pred_test)))\n",
    "        score_test.append(rmsle_test)\n",
    "    rmsle_dataframe = pd.DataFrame( {'Modelos': tmp_names, 'RMSLE-Train': score_train,'RMSLE-Test': score_test})\n",
    "    return rmsle_dataframe.sort_values(by='RMSLE-Test')"
   ]
  },
  {
   "cell_type": "code",
   "execution_count": 62,
   "metadata": {},
   "outputs": [],
   "source": [
    "# Modelos iniciales.\n",
    "mod_rf = RandomForestRegressor(random_state=seed)\n",
    "mod_gb = GradientBoostingRegressor(random_state=seed)\n",
    "mod_xgb = XGBRegressor(seed=9605)\n",
    "mod_lgb = lgb.LGBMRegressor(objective='regression', random_state=seed)"
   ]
  },
  {
   "cell_type": "code",
   "execution_count": 63,
   "metadata": {},
   "outputs": [],
   "source": [
    "# Grilla de estimadores (modelos)\n",
    "estimators_base = [('Random Forest', mod_rf),\n",
    "                   ('Gradient Boosting', mod_gb),\n",
    "                   ('Xgboost', mod_xgb),\n",
    "                   ('LGBM', mod_lgb)]"
   ]
  },
  {
   "cell_type": "code",
   "execution_count": 64,
   "metadata": {},
   "outputs": [
    {
     "data": {
      "text/html": [
       "<div>\n",
       "<style scoped>\n",
       "    .dataframe tbody tr th:only-of-type {\n",
       "        vertical-align: middle;\n",
       "    }\n",
       "\n",
       "    .dataframe tbody tr th {\n",
       "        vertical-align: top;\n",
       "    }\n",
       "\n",
       "    .dataframe thead th {\n",
       "        text-align: right;\n",
       "    }\n",
       "</style>\n",
       "<table border=\"1\" class=\"dataframe\">\n",
       "  <thead>\n",
       "    <tr style=\"text-align: right;\">\n",
       "      <th></th>\n",
       "      <th>Modelos</th>\n",
       "      <th>RMSLE-Train</th>\n",
       "      <th>RMSLE-Test</th>\n",
       "    </tr>\n",
       "  </thead>\n",
       "  <tbody>\n",
       "    <tr>\n",
       "      <th>3</th>\n",
       "      <td>LGBM</td>\n",
       "      <td>0.249436</td>\n",
       "      <td>0.255439</td>\n",
       "    </tr>\n",
       "    <tr>\n",
       "      <th>0</th>\n",
       "      <td>Random Forest</td>\n",
       "      <td>0.165621</td>\n",
       "      <td>0.260514</td>\n",
       "    </tr>\n",
       "    <tr>\n",
       "      <th>1</th>\n",
       "      <td>Gradient Boosting</td>\n",
       "      <td>0.287711</td>\n",
       "      <td>0.288951</td>\n",
       "    </tr>\n",
       "    <tr>\n",
       "      <th>2</th>\n",
       "      <td>Xgboost</td>\n",
       "      <td>0.288012</td>\n",
       "      <td>0.289389</td>\n",
       "    </tr>\n",
       "  </tbody>\n",
       "</table>\n",
       "</div>"
      ],
      "text/plain": [
       "             Modelos  RMSLE-Train  RMSLE-Test\n",
       "3               LGBM     0.249436    0.255439\n",
       "0      Random Forest     0.165621    0.260514\n",
       "1  Gradient Boosting     0.287711    0.288951\n",
       "2            Xgboost     0.288012    0.289389"
      ]
     },
     "execution_count": 64,
     "metadata": {},
     "output_type": "execute_result"
    }
   ],
   "source": [
    "compara_modelos(estimators_base, X_train, y_train.values.ravel(), X_test, y_test)"
   ]
  },
  {
   "cell_type": "markdown",
   "metadata": {},
   "source": [
    "### 3.2 Calibración modelos."
   ]
  },
  {
   "cell_type": "markdown",
   "metadata": {},
   "source": [
    "#### Calibración Random Forest."
   ]
  },
  {
   "cell_type": "code",
   "execution_count": 65,
   "metadata": {},
   "outputs": [],
   "source": [
    "# Creamos grilla con hiperparámetros\n",
    "param_rf = {\"n_estimators\": [125, 250, 350],\n",
    "            \"min_samples_split\": [2, 4, 6],\n",
    "            \"max_features\": [\"sqrt\", \"log2\", None]}\n",
    "\n",
    "# Generamos nuestro modelo\n",
    "mod_rf = RandomForestRegressor(random_state=seed)"
   ]
  },
  {
   "cell_type": "code",
   "execution_count": 66,
   "metadata": {},
   "outputs": [
    {
     "name": "stdout",
     "output_type": "stream",
     "text": [
      "Wall time: 18min 46s\n"
     ]
    }
   ],
   "source": [
    "%%time\n",
    "mod_rf_gcv = GridSearchCV(mod_rf, param_grid=param_rf, scoring=scorer, cv=3, n_jobs=-1).fit(X_train, y_train.values.ravel())"
   ]
  },
  {
   "cell_type": "code",
   "execution_count": 67,
   "metadata": {},
   "outputs": [
    {
     "name": "stdout",
     "output_type": "stream",
     "text": [
      "Parámetros primera grilla Random Forest:  {'max_features': 'sqrt', 'min_samples_split': 6, 'n_estimators': 350}\n"
     ]
    }
   ],
   "source": [
    "print(\"Parámetros primera grilla Random Forest: \", mod_rf_gcv.best_params_)"
   ]
  },
  {
   "cell_type": "code",
   "execution_count": 68,
   "metadata": {},
   "outputs": [],
   "source": [
    "# Haciendo fine tuning se obtiene el siguiente modelo calibrado\n",
    "rf_best = RandomForestRegressor(max_features='sqrt', min_samples_split = 5, n_estimators = 330, random_state=seed)"
   ]
  },
  {
   "cell_type": "markdown",
   "metadata": {},
   "source": [
    "#### Calibración Gradient Boosting."
   ]
  },
  {
   "cell_type": "code",
   "execution_count": 69,
   "metadata": {},
   "outputs": [],
   "source": [
    "# Creamos grilla con hiperparámetros\n",
    "param_gb = {\"n_estimators\": [150, 250, 500, 700, 1000],\n",
    "            \"learning_rate\": [0.05, 0.07, 0.12, 0.15],\n",
    "            \"subsample\": [0.7, 0.8, 0.9]}\n",
    "\n",
    "# Generamos nuestro modelo\n",
    "mod_gb = GradientBoostingRegressor(random_state=seed)"
   ]
  },
  {
   "cell_type": "code",
   "execution_count": 70,
   "metadata": {},
   "outputs": [
    {
     "name": "stdout",
     "output_type": "stream",
     "text": [
      "Wall time: 41min 28s\n"
     ]
    }
   ],
   "source": [
    "%%time\n",
    "mod_gb_gcv = GridSearchCV(mod_gb, param_grid=param_gb, scoring=scorer, cv=3, n_jobs=-1).fit(X_train, y_train.values.ravel())"
   ]
  },
  {
   "cell_type": "code",
   "execution_count": 71,
   "metadata": {},
   "outputs": [
    {
     "name": "stdout",
     "output_type": "stream",
     "text": [
      "Parámetros primera grilla Gradient Boosting:  {'learning_rate': 0.15, 'n_estimators': 700, 'subsample': 0.8}\n"
     ]
    }
   ],
   "source": [
    "print(\"Parámetros primera grilla Gradient Boosting: \", mod_gb_gcv.best_params_)"
   ]
  },
  {
   "cell_type": "code",
   "execution_count": 72,
   "metadata": {},
   "outputs": [],
   "source": [
    "# Haciendo fine tuning se obtiene el siguiente modelo calibrado\n",
    "gb_best = GradientBoostingRegressor(n_estimators= 1000, learning_rate= 0.15, subsample= 0.9, random_state=seed)"
   ]
  },
  {
   "cell_type": "markdown",
   "metadata": {},
   "source": [
    "#### Calibración XGBoost."
   ]
  },
  {
   "cell_type": "code",
   "execution_count": 73,
   "metadata": {},
   "outputs": [],
   "source": [
    "# Creamos primera grilla con hiperparámetros\n",
    "param1_xgb = {\"learning_rate\": [0.03, 0.05, 0.07],\n",
    "              \"n_estimators\": [150, 250, 350],                        \n",
    "              \"subsample\": [0.7, 0.8, 0.9]}\n",
    "\n",
    "# Generamos nuestro modelo\n",
    "mod1_xgb = XGBRegressor(seed=9605)"
   ]
  },
  {
   "cell_type": "code",
   "execution_count": 74,
   "metadata": {},
   "outputs": [
    {
     "name": "stdout",
     "output_type": "stream",
     "text": [
      "Wall time: 12min 46s\n"
     ]
    }
   ],
   "source": [
    "%%time\n",
    "mod1_xgb_gcv = GridSearchCV(mod1_xgb, param_grid=param1_xgb, scoring=scorer, cv=3, n_jobs=-1).fit(X_train, y_train.values.ravel())"
   ]
  },
  {
   "cell_type": "code",
   "execution_count": 75,
   "metadata": {},
   "outputs": [
    {
     "name": "stdout",
     "output_type": "stream",
     "text": [
      "Parámetros primera grilla XGBoost:  {'learning_rate': 0.07, 'n_estimators': 350, 'subsample': 0.7}\n"
     ]
    }
   ],
   "source": [
    "print(\"Parámetros primera grilla XGBoost: \", mod1_xgb_gcv.best_params_)"
   ]
  },
  {
   "cell_type": "code",
   "execution_count": 76,
   "metadata": {},
   "outputs": [],
   "source": [
    "# Creamos segunda grilla con hiperparámetros\n",
    "param2_xgb = {\"colsample_bytree\": [0.6, 0.7, 0.8],\n",
    "              \"max_depth\": [6, 8, 10],\n",
    "              \"reg_lambda\": [0.6, 0.8, 1.0]}\n",
    "\n",
    "# Generamos nuestro modelo\n",
    "mod2_xgb = XGBRegressor(learning_rate= 0.07, n_estimators= 350, subsample= 0.7, seed=9605)"
   ]
  },
  {
   "cell_type": "code",
   "execution_count": 77,
   "metadata": {},
   "outputs": [
    {
     "name": "stdout",
     "output_type": "stream",
     "text": [
      "Wall time: 31min 39s\n"
     ]
    }
   ],
   "source": [
    "%%time\n",
    "mod2_xgb_gcv = GridSearchCV(mod2_xgb, param_grid=param2_xgb, scoring=scorer, cv=3, n_jobs=-1).fit(X_train, y_train.values.ravel())"
   ]
  },
  {
   "cell_type": "code",
   "execution_count": 78,
   "metadata": {},
   "outputs": [
    {
     "name": "stdout",
     "output_type": "stream",
     "text": [
      "Parámetros segunda grilla XGBoost:  {'colsample_bytree': 0.6, 'max_depth': 10, 'reg_lambda': 0.8}\n"
     ]
    }
   ],
   "source": [
    "print(\"Parámetros segunda grilla XGBoost: \", mod2_xgb_gcv.best_params_)"
   ]
  },
  {
   "cell_type": "code",
   "execution_count": 79,
   "metadata": {},
   "outputs": [],
   "source": [
    "# Haciendo fine tuning se obtiene el siguiente modelo calibrado\n",
    "xgb_best = XGBRegressor(colsample_bytree=0.695, learning_rate=0.07, max_depth=10, n_estimators=267, reg_lambda=0.8, subsample=0.9, seed=9605)"
   ]
  },
  {
   "cell_type": "markdown",
   "metadata": {},
   "source": [
    "#### Calibración LightGBM."
   ]
  },
  {
   "cell_type": "code",
   "execution_count": 80,
   "metadata": {},
   "outputs": [],
   "source": [
    "# Creamos grilla con hiperparámetros\n",
    "param_lgb = {\"n_estimators\": [250, 350, 450, 550, 750],                        \n",
    "             \"reg_alpha\": [0.1, 0.2, 0.5, 0.7]}\n",
    "\n",
    "# Generamos nuestro modelo\n",
    "mod_lgb = lgb.LGBMRegressor(objective='regression', random_state=seed)"
   ]
  },
  {
   "cell_type": "code",
   "execution_count": 81,
   "metadata": {},
   "outputs": [
    {
     "name": "stdout",
     "output_type": "stream",
     "text": [
      "Wall time: 1min 45s\n"
     ]
    }
   ],
   "source": [
    "%%time\n",
    "mod_lgb_gcv = GridSearchCV(mod_lgb, param_grid=param_lgb, scoring=scorer, cv=3, n_jobs=-1).fit(X_train,y_train.values.ravel())"
   ]
  },
  {
   "cell_type": "code",
   "execution_count": 82,
   "metadata": {},
   "outputs": [
    {
     "name": "stdout",
     "output_type": "stream",
     "text": [
      "Parámetros primera grilla LightGBM:  {'n_estimators': 450, 'reg_alpha': 0.2}\n"
     ]
    }
   ],
   "source": [
    "print(\"Parámetros primera grilla LightGBM: \", mod_lgb_gcv.best_params_)"
   ]
  },
  {
   "cell_type": "code",
   "execution_count": 83,
   "metadata": {},
   "outputs": [],
   "source": [
    "# Modelo calibrado LightGBM\n",
    "lgb_best = lgb.LGBMRegressor(objective='regression', n_estimators=450, reg_alpha=0.2, random_state=seed)"
   ]
  },
  {
   "cell_type": "markdown",
   "metadata": {},
   "source": [
    "#### Desempeño modelos calibrados."
   ]
  },
  {
   "cell_type": "code",
   "execution_count": 84,
   "metadata": {},
   "outputs": [],
   "source": [
    "estimators_best = [('Ramdom Forest', rf_best),\n",
    "                   ('Gradient Boosting', gb_best),\n",
    "                   ('Xgboost', xgb_best),\n",
    "                   ('LGBM', lgb_best)]"
   ]
  },
  {
   "cell_type": "code",
   "execution_count": 85,
   "metadata": {},
   "outputs": [
    {
     "data": {
      "text/html": [
       "<div>\n",
       "<style scoped>\n",
       "    .dataframe tbody tr th:only-of-type {\n",
       "        vertical-align: middle;\n",
       "    }\n",
       "\n",
       "    .dataframe tbody tr th {\n",
       "        vertical-align: top;\n",
       "    }\n",
       "\n",
       "    .dataframe thead th {\n",
       "        text-align: right;\n",
       "    }\n",
       "</style>\n",
       "<table border=\"1\" class=\"dataframe\">\n",
       "  <thead>\n",
       "    <tr style=\"text-align: right;\">\n",
       "      <th></th>\n",
       "      <th>Modelos</th>\n",
       "      <th>RMSLE-Train</th>\n",
       "      <th>RMSLE-Test</th>\n",
       "    </tr>\n",
       "  </thead>\n",
       "  <tbody>\n",
       "    <tr>\n",
       "      <th>2</th>\n",
       "      <td>Xgboost</td>\n",
       "      <td>0.214303</td>\n",
       "      <td>0.244983</td>\n",
       "    </tr>\n",
       "    <tr>\n",
       "      <th>3</th>\n",
       "      <td>LGBM</td>\n",
       "      <td>0.230822</td>\n",
       "      <td>0.249863</td>\n",
       "    </tr>\n",
       "    <tr>\n",
       "      <th>0</th>\n",
       "      <td>Ramdom Forest</td>\n",
       "      <td>0.182853</td>\n",
       "      <td>0.250222</td>\n",
       "    </tr>\n",
       "    <tr>\n",
       "      <th>1</th>\n",
       "      <td>Gradient Boosting</td>\n",
       "      <td>0.229189</td>\n",
       "      <td>0.250319</td>\n",
       "    </tr>\n",
       "  </tbody>\n",
       "</table>\n",
       "</div>"
      ],
      "text/plain": [
       "             Modelos  RMSLE-Train  RMSLE-Test\n",
       "2            Xgboost     0.214303    0.244983\n",
       "3               LGBM     0.230822    0.249863\n",
       "0      Ramdom Forest     0.182853    0.250222\n",
       "1  Gradient Boosting     0.229189    0.250319"
      ]
     },
     "execution_count": 85,
     "metadata": {},
     "output_type": "execute_result"
    }
   ],
   "source": [
    "compara_modelos(estimators_best, X_train, y_train.values.ravel(), X_test, y_test)"
   ]
  },
  {
   "cell_type": "markdown",
   "metadata": {},
   "source": [
    "El mejor modelo calibrado es XGBoost con un RMSLE en Test de 0.244983."
   ]
  },
  {
   "cell_type": "markdown",
   "metadata": {},
   "source": [
    "## 4. Entrenamiento con VotingRegressor y calibración."
   ]
  },
  {
   "cell_type": "code",
   "execution_count": 86,
   "metadata": {},
   "outputs": [],
   "source": [
    "from sklearn.ensemble import VotingRegressor"
   ]
  },
  {
   "cell_type": "code",
   "execution_count": 87,
   "metadata": {},
   "outputs": [],
   "source": [
    "estimators1 = [('Ramdom Forest', rf_best),\n",
    "              ('Gradient Boosting', gb_best),\n",
    "              ('Xgboost', xgb_best), \n",
    "              ('LGBM', lgb_best)]\n",
    "\n",
    "estimators2 = [('Random Forest', rf_best),\n",
    "              ('Xgboost', xgb_best),             \n",
    "              ('Gradient Boosting', gb_best)]\n",
    "\n",
    "estimators3 = [('Random Forest', rf_best),\n",
    "               ('Xgboost', xgb_best),\n",
    "               ('LGBM', lgb_best)]\n",
    "\n",
    "estimators4 = [('Random Forest', rf_best),\n",
    "              ('Gradient Boosting', gb_best),\n",
    "              ('LGBM', lgb_best)]\n",
    "\n",
    "estimators5 = [('Gradient Boosting', gb_best),\n",
    "               ('Xgboost', xgb_best),\n",
    "               ('LGBM', lgb_best)]"
   ]
  },
  {
   "cell_type": "code",
   "execution_count": 88,
   "metadata": {},
   "outputs": [],
   "source": [
    "estimators_regressor =[('Modelo 1', VotingRegressor(estimators1)),\n",
    "                       ('Modelo 2', VotingRegressor(estimators2)),\n",
    "                       ('Modelo 3', VotingRegressor(estimators3)),\n",
    "                       ('Modelo 4', VotingRegressor(estimators4)),\n",
    "                       ('Modelo 5', VotingRegressor(estimators5))]"
   ]
  },
  {
   "cell_type": "markdown",
   "metadata": {},
   "source": [
    "#### Desempeño modelos con VotingRegressor."
   ]
  },
  {
   "cell_type": "code",
   "execution_count": 89,
   "metadata": {},
   "outputs": [
    {
     "data": {
      "text/html": [
       "<div>\n",
       "<style scoped>\n",
       "    .dataframe tbody tr th:only-of-type {\n",
       "        vertical-align: middle;\n",
       "    }\n",
       "\n",
       "    .dataframe tbody tr th {\n",
       "        vertical-align: top;\n",
       "    }\n",
       "\n",
       "    .dataframe thead th {\n",
       "        text-align: right;\n",
       "    }\n",
       "</style>\n",
       "<table border=\"1\" class=\"dataframe\">\n",
       "  <thead>\n",
       "    <tr style=\"text-align: right;\">\n",
       "      <th></th>\n",
       "      <th>Modelos</th>\n",
       "      <th>RMSLE-Train</th>\n",
       "      <th>RMSLE-Test</th>\n",
       "    </tr>\n",
       "  </thead>\n",
       "  <tbody>\n",
       "    <tr>\n",
       "      <th>1</th>\n",
       "      <td>Modelo 2</td>\n",
       "      <td>0.202338</td>\n",
       "      <td>0.241452</td>\n",
       "    </tr>\n",
       "    <tr>\n",
       "      <th>0</th>\n",
       "      <td>Modelo 1</td>\n",
       "      <td>0.207595</td>\n",
       "      <td>0.241646</td>\n",
       "    </tr>\n",
       "    <tr>\n",
       "      <th>3</th>\n",
       "      <td>Modelo 4</td>\n",
       "      <td>0.206719</td>\n",
       "      <td>0.241843</td>\n",
       "    </tr>\n",
       "    <tr>\n",
       "      <th>2</th>\n",
       "      <td>Modelo 3</td>\n",
       "      <td>0.202926</td>\n",
       "      <td>0.241855</td>\n",
       "    </tr>\n",
       "    <tr>\n",
       "      <th>4</th>\n",
       "      <td>Modelo 5</td>\n",
       "      <td>0.221250</td>\n",
       "      <td>0.244667</td>\n",
       "    </tr>\n",
       "  </tbody>\n",
       "</table>\n",
       "</div>"
      ],
      "text/plain": [
       "    Modelos  RMSLE-Train  RMSLE-Test\n",
       "1  Modelo 2     0.202338    0.241452\n",
       "0  Modelo 1     0.207595    0.241646\n",
       "3  Modelo 4     0.206719    0.241843\n",
       "2  Modelo 3     0.202926    0.241855\n",
       "4  Modelo 5     0.221250    0.244667"
      ]
     },
     "execution_count": 89,
     "metadata": {},
     "output_type": "execute_result"
    }
   ],
   "source": [
    "compara_modelos(estimators_regressor, X_train, y_train.values.ravel(), X_test, y_test)"
   ]
  },
  {
   "cell_type": "markdown",
   "metadata": {},
   "source": [
    "VotingRegressor con 3 modelos (Random Forest, XGBoost y Gradient Boosting) tiene el mejor desempeño, logrando un RMSLE de 0.241452, que es una mejora respecto a 0.244983 (XGBoost calibrado). "
   ]
  },
  {
   "cell_type": "markdown",
   "metadata": {},
   "source": [
    "#### Calibración VotingRegressor."
   ]
  },
  {
   "cell_type": "code",
   "execution_count": 90,
   "metadata": {},
   "outputs": [],
   "source": [
    "estimators_tuning =[('Modelo 433', VotingRegressor(estimators2, weights=[.4, .3, .3])),\n",
    "                    ('Modelo 343', VotingRegressor(estimators2, weights=[.3, .4, .3])),\n",
    "                    ('Modelo 334', VotingRegressor(estimators2, weights=[.3, .3, .4]))]"
   ]
  },
  {
   "cell_type": "code",
   "execution_count": 91,
   "metadata": {},
   "outputs": [
    {
     "data": {
      "text/html": [
       "<div>\n",
       "<style scoped>\n",
       "    .dataframe tbody tr th:only-of-type {\n",
       "        vertical-align: middle;\n",
       "    }\n",
       "\n",
       "    .dataframe tbody tr th {\n",
       "        vertical-align: top;\n",
       "    }\n",
       "\n",
       "    .dataframe thead th {\n",
       "        text-align: right;\n",
       "    }\n",
       "</style>\n",
       "<table border=\"1\" class=\"dataframe\">\n",
       "  <thead>\n",
       "    <tr style=\"text-align: right;\">\n",
       "      <th></th>\n",
       "      <th>Modelos</th>\n",
       "      <th>RMSLE-Train</th>\n",
       "      <th>RMSLE-Test</th>\n",
       "    </tr>\n",
       "  </thead>\n",
       "  <tbody>\n",
       "    <tr>\n",
       "      <th>0</th>\n",
       "      <td>Modelo 433</td>\n",
       "      <td>0.199332</td>\n",
       "      <td>0.241292</td>\n",
       "    </tr>\n",
       "    <tr>\n",
       "      <th>1</th>\n",
       "      <td>Modelo 343</td>\n",
       "      <td>0.203287</td>\n",
       "      <td>0.241531</td>\n",
       "    </tr>\n",
       "    <tr>\n",
       "      <th>2</th>\n",
       "      <td>Modelo 334</td>\n",
       "      <td>0.204581</td>\n",
       "      <td>0.241749</td>\n",
       "    </tr>\n",
       "  </tbody>\n",
       "</table>\n",
       "</div>"
      ],
      "text/plain": [
       "      Modelos  RMSLE-Train  RMSLE-Test\n",
       "0  Modelo 433     0.199332    0.241292\n",
       "1  Modelo 343     0.203287    0.241531\n",
       "2  Modelo 334     0.204581    0.241749"
      ]
     },
     "execution_count": 91,
     "metadata": {},
     "output_type": "execute_result"
    }
   ],
   "source": [
    "compara_modelos(estimators_tuning, X_train, y_train.values.ravel(), X_test, y_test)"
   ]
  },
  {
   "cell_type": "code",
   "execution_count": 92,
   "metadata": {},
   "outputs": [],
   "source": [
    "estimators_fine_tuning =[('Modelo 1', VotingRegressor(estimators2, weights=[.36, .32, .32])),\n",
    "                         ('Modelo 2', VotingRegressor(estimators2, weights=[.38, .31, .31])),\n",
    "                         ('Modelo 3', VotingRegressor(estimators2, weights=[.42, .29, .29])),\n",
    "                         ('Modelo 4', VotingRegressor(estimators2, weights=[.44, .28, .28]))]"
   ]
  },
  {
   "cell_type": "code",
   "execution_count": 93,
   "metadata": {},
   "outputs": [
    {
     "data": {
      "text/html": [
       "<div>\n",
       "<style scoped>\n",
       "    .dataframe tbody tr th:only-of-type {\n",
       "        vertical-align: middle;\n",
       "    }\n",
       "\n",
       "    .dataframe tbody tr th {\n",
       "        vertical-align: top;\n",
       "    }\n",
       "\n",
       "    .dataframe thead th {\n",
       "        text-align: right;\n",
       "    }\n",
       "</style>\n",
       "<table border=\"1\" class=\"dataframe\">\n",
       "  <thead>\n",
       "    <tr style=\"text-align: right;\">\n",
       "      <th></th>\n",
       "      <th>Modelos</th>\n",
       "      <th>RMSLE-Train</th>\n",
       "      <th>RMSLE-Test</th>\n",
       "    </tr>\n",
       "  </thead>\n",
       "  <tbody>\n",
       "    <tr>\n",
       "      <th>2</th>\n",
       "      <td>Modelo 3</td>\n",
       "      <td>0.198471</td>\n",
       "      <td>0.241290</td>\n",
       "    </tr>\n",
       "    <tr>\n",
       "      <th>3</th>\n",
       "      <td>Modelo 4</td>\n",
       "      <td>0.197630</td>\n",
       "      <td>0.241308</td>\n",
       "    </tr>\n",
       "    <tr>\n",
       "      <th>1</th>\n",
       "      <td>Modelo 2</td>\n",
       "      <td>0.200212</td>\n",
       "      <td>0.241316</td>\n",
       "    </tr>\n",
       "    <tr>\n",
       "      <th>0</th>\n",
       "      <td>Modelo 1</td>\n",
       "      <td>0.201111</td>\n",
       "      <td>0.241360</td>\n",
       "    </tr>\n",
       "  </tbody>\n",
       "</table>\n",
       "</div>"
      ],
      "text/plain": [
       "    Modelos  RMSLE-Train  RMSLE-Test\n",
       "2  Modelo 3     0.198471    0.241290\n",
       "3  Modelo 4     0.197630    0.241308\n",
       "1  Modelo 2     0.200212    0.241316\n",
       "0  Modelo 1     0.201111    0.241360"
      ]
     },
     "execution_count": 93,
     "metadata": {},
     "output_type": "execute_result"
    }
   ],
   "source": [
    "compara_modelos(estimators_fine_tuning, X_train, y_train.values.ravel(), X_test, y_test)"
   ]
  },
  {
   "cell_type": "markdown",
   "metadata": {},
   "source": [
    "El modelo con mejor desempeño es VotingRegressor con 3 modelos (Random Forest, XGBoost y Gradient Boosting) y weights=[.42, .29, .29]"
   ]
  },
  {
   "cell_type": "markdown",
   "metadata": {},
   "source": [
    "## 5. Predicciones y Submission."
   ]
  },
  {
   "cell_type": "code",
   "execution_count": 94,
   "metadata": {},
   "outputs": [],
   "source": [
    "# Entrenamos el modelo con mejor desempeño con el dataset completo del train\n",
    "voting_regressor_final = VotingRegressor(estimators2, weights=[.42, .29, .29]).fit(X,y)\n",
    "\n",
    "# Ordenamos las columnas del dataset para predicciones según las columnas del train\n",
    "df_predicciones=df_predicciones[X_train.columns]\n",
    "\n",
    "# Realizamos predicciones (usamos función inversa de log1p (expm1))\n",
    "predicciones = np.expm1(voting_regressor_final.predict(df_predicciones))\n",
    "\n",
    "# Dataframe entrega\n",
    "entrega=pd.DataFrame({'id':id_predice , 'price': predicciones.flatten()}).set_index('id')\n",
    "\n",
    "# CSV entrega\n",
    "entrega.to_csv('Submission_final.csv')"
   ]
  }
 ],
 "metadata": {
  "kernelspec": {
   "display_name": "Python 3",
   "language": "python",
   "name": "python3"
  },
  "language_info": {
   "codemirror_mode": {
    "name": "ipython",
    "version": 3
   },
   "file_extension": ".py",
   "mimetype": "text/x-python",
   "name": "python",
   "nbconvert_exporter": "python",
   "pygments_lexer": "ipython3",
   "version": "3.6.5"
  }
 },
 "nbformat": 4,
 "nbformat_minor": 2
}
